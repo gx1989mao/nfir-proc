{
 "cells": [
  {
   "cell_type": "markdown",
   "metadata": {},
   "source": [
    "# Import"
   ]
  },
  {
   "cell_type": "code",
   "execution_count": 22,
   "metadata": {},
   "outputs": [
    {
     "name": "stdout",
     "output_type": "stream",
     "text": [
      "cpu\n"
     ]
    }
   ],
   "source": [
    "import numpy as np\n",
    "import matplotlib.pyplot as plt\n",
    "\n",
    "from tqdm.notebook import tqdm\n",
    "# import tqdm\n",
    "import time\n",
    "import datetime\n",
    "import torchvision\n",
    "from torchvision import transforms as T\n",
    "from torchvision.io import read_image\n",
    "\n",
    "import torch\n",
    "import torch.nn as nn\n",
    "import torch.nn.functional as F\n",
    "import torch.optim as optim\n",
    "\n",
    "import tensorflow as tf\n",
    "from PIL import Image\n",
    "import cv2\n",
    "import copy\n",
    "\n",
    "import csv\n",
    "import json\n",
    "import struct\n",
    "from functools import reduce\n",
    "import shelve\n",
    "import shutil\n",
    "from glob import glob\n",
    "import os, random\n",
    "from shutil import copyfile,rmtree\n",
    "\n",
    "import tensorflow.lite as tflite\n",
    "import scipy.io as sio\n",
    "device = torch.device('cuda') if torch.cuda.is_available() else torch.device('cpu')\n",
    "print(device)\n"
   ]
  },
  {
   "cell_type": "markdown",
   "metadata": {},
   "source": [
    "# model def"
   ]
  },
  {
   "cell_type": "code",
   "execution_count": 123,
   "metadata": {},
   "outputs": [],
   "source": [
    "def save_map(ch_map):\n",
    "    tmp = ch_map.cpu().detach().numpy().squeeze()\n",
    "    sio.savemat('./map.mat',{'Z':tmp})"
   ]
  },
  {
   "cell_type": "code",
   "execution_count": 118,
   "metadata": {},
   "outputs": [],
   "source": [
    "import torch.nn as nn\n",
    "import torch.nn.functional as F\n",
    "\n",
    "class SELayer(nn.Module):\n",
    "    def __init__(self, in_ch, out_ch, ksize, stride, reduction=16):\n",
    "        super(SELayer, self).__init__()\n",
    "#         self.conv = nn.Conv1d(in_channels=in_ch, out_channels=out_ch, \n",
    "#                               kernel_size=ksize,stride=stride)\n",
    "        \n",
    "        self.conv = nn.Conv1d(in_ch, in_ch, kernel_size=3, \n",
    "                                     stride=stride,\n",
    "                                     groups=in_ch)\n",
    "        \n",
    "        self.conv_bn = nn.BatchNorm1d(in_ch)\n",
    "        self.avg_pool = nn.AdaptiveAvgPool1d(1)\n",
    "        self.fc = nn.Sequential(\n",
    "            nn.Linear(in_ch, in_ch//reduction, bias=False),\n",
    "            nn.ReLU(inplace=True),\n",
    "            nn.Linear(in_ch//reduction, in_ch, bias=False),\n",
    "            nn.Sigmoid()\n",
    "        )\n",
    "        self.PC = nn.Conv1d(in_ch, out_ch,  kernel_size=1, stride=1)\n",
    "        self.PC_bn = nn.BatchNorm1d(out_ch)\n",
    "        \n",
    "    def forward(self, x):\n",
    "        x = self.conv(x)\n",
    "        x = self.conv_bn(x)\n",
    "        b, c, l = x.size()\n",
    "        y = self.avg_pool(x).view(b, c)\n",
    "        y = self.fc(y).view(b, c, 1)\n",
    "        res = x * y.expand_as(x)\n",
    "#         print(res.shape)\n",
    "        res = self.PC(res)\n",
    "        res = self.PC_bn(res)\n",
    "        return res,y\n",
    "\n",
    "class CLS_NET(nn.Module):\n",
    "    def __init__(self,num_classes=2):\n",
    "        super(CLS_NET, self).__init__()\n",
    "#         self.head_avgpool = nn.AdaptiveAvgPool1d(1)\n",
    "#         self.head = nn.Sequential(\n",
    "#             nn.Linear(48, 48//16, bias=False),\n",
    "#             nn.ReLU(inplace=True),\n",
    "#             nn.Linear(48//16, 48, bias=False),\n",
    "#             nn.Sigmoid()\n",
    "#         )\n",
    "        \n",
    "        self.layers = [\n",
    "            [48,48,7,2,2],\n",
    "#             [48,24,5,2,4 ],        \n",
    "            [48,8, 3,2,4 ],  \n",
    "        ]\n",
    "        self.basicblock = []\n",
    "        for in_ch, out_ch, ksize, stride, reduction in self.layers:\n",
    "            self.basicblock.append(SELayer(in_ch, out_ch, ksize, stride, reduction))\n",
    "        self.basicblock = nn.ModuleList(self.basicblock)     \n",
    "        \n",
    "        self.fc1 = nn.Linear(504, 32)\n",
    "        self.bn1 = nn.BatchNorm1d(32)\n",
    "        self.relu1 = nn.ReLU6(inplace=True)\n",
    "        self.dropout1 = nn.Dropout(0.5)\n",
    "        \n",
    "        self.fc2 = nn.Linear(32, 16)\n",
    "        self.bn2 = nn.BatchNorm1d(16)\n",
    "        self.relu2 = nn.ReLU6(inplace=True)\n",
    "        self.dropout2 = nn.Dropout(0.5)\n",
    "        \n",
    "        self.fc3 = nn.Linear(16, num_classes)\n",
    "        self.softmax = nn.Softmax(dim=1)\n",
    "        \n",
    "    def forward(self, x):\n",
    "#         b, c, l = x.size()\n",
    "#         y = self.head_avgpool(x).view(b, c)\n",
    "#         x = self.head(y).view(b, c, 1).expand_as(x)*x\n",
    "\n",
    "        x,ch_map = self.basicblock[0](x) #256 to 128\n",
    "#         print(x.shape)\n",
    "        x,_ = self.basicblock[1](x) #128 to 64\n",
    "#         print(x.shape)\n",
    "#         x,_ = self.basicblock[2](x) #64 to 32\n",
    "#         print(x.shape)\n",
    "        x = x.reshape((-1,504))\n",
    "        x = self.fc1(x)\n",
    "        x = self.bn1(x)\n",
    "        x = self.relu1(x)\n",
    "        x = self.dropout1(x)\n",
    "        x = self.fc2(x)\n",
    "        x = self.bn2(x)\n",
    "        x = self.relu2(x)\n",
    "        x = self.dropout2(x)\n",
    "        x = self.fc3(x)\n",
    "        x = self.softmax(x)\n",
    "        return x,ch_map"
   ]
  },
  {
   "cell_type": "markdown",
   "metadata": {},
   "source": [
    "# dataloader"
   ]
  },
  {
   "cell_type": "code",
   "execution_count": 25,
   "metadata": {},
   "outputs": [],
   "source": [
    "def data_loader(data_list,batch_size=24):\n",
    "#     data_list (24, 48, 256)\n",
    "    label = list(range(data_list.shape[0]))\n",
    "    if SEED is not None:\n",
    "        random.seed(SEED)\n",
    "        random.shuffle(label)\n",
    "    \n",
    "    batch = torch.zeros((batch_size,48,256))\n",
    "    for i in range(batch_size):\n",
    "        batch[i,:] = data_list[label[i],:,:]\n",
    "    \n",
    "    label = np.array(label)\n",
    "    label[label<12] = 0\n",
    "    label[label>=12] = 1\n",
    "    label = torch.tensor(label)\n",
    "    marks = label.long().to(device)\n",
    "    return batch,marks"
   ]
  },
  {
   "cell_type": "markdown",
   "metadata": {},
   "source": [
    "# train funcs"
   ]
  },
  {
   "cell_type": "code",
   "execution_count": 26,
   "metadata": {},
   "outputs": [],
   "source": [
    "def distiller_epoch(stu_model, criterion, optimizer, scheduler, train_mode, show_tqdm=True):\n",
    "    if train_mode:\n",
    "        batch,marks = data_loader(data_cube,24)\n",
    "        stu_model.train()\n",
    "    else:\n",
    "        batch,marks = data_loader(data_cube,24)\n",
    "        stu_model.eval()\n",
    "\n",
    "    loss_list = []\n",
    "    acc_list = []\n",
    "    loss_tmp = 0\n",
    "    acc_n = 0\n",
    "    \n",
    "    stu_inputs = batch.to(device)\n",
    "    with torch.set_grad_enabled(train_mode):\n",
    "        stu_outputs,ch_map = stu_model(stu_inputs)\n",
    "    \n",
    "    loss = criterion(stu_outputs,marks).to(device)\n",
    "    \n",
    "    stu_mark = torch.argmax(stu_outputs,dim=1)\n",
    "    for i in range(BATCH_size):\n",
    "        if stu_mark[i].item() == marks[i].item():\n",
    "            acc_n+=1\n",
    "    \n",
    "    if train_mode:\n",
    "        loss.backward()\n",
    "        optimizer.step()\n",
    "        scheduler.step()\n",
    "\n",
    "    loss_list += [loss.item()]\n",
    "    loss_tmp  +=  loss.item()\n",
    "        \n",
    "#     this_epoch_loss = loss_tmp / batchnumber\n",
    "    acc_rate = acc_n/(BATCH_size)\n",
    "#     print(loss_list,acc_rate)\n",
    "    return loss_list,acc_rate"
   ]
  },
  {
   "cell_type": "code",
   "execution_count": 27,
   "metadata": {},
   "outputs": [],
   "source": [
    "def distiller_train(stu_model,epochs,base_lr=0.01, max_lr=0.1,step_size_up=500, step_size_down=500,gamma=1,\n",
    "                    weight_decay=1e-5, save_path='./stu_model.pt',\n",
    "                    criterion=nn.CrossEntropyLoss(), show_tqdm=True,\n",
    "                   all_train_losses=[],all_val_losses=[],all_learn_rate=[],all_rkd=[]):\n",
    "        \n",
    "    global EPOCH_idx  # global epoch for tensorboard record index \n",
    "    # 优化器\n",
    "    optimizer = torch.optim.SGD(stu_model.parameters(),\n",
    "                                lr=base_lr, momentum=0.9, dampening=0, \n",
    "                                weight_decay=weight_decay, nesterov=True)\n",
    "    # 学习率更新策略\n",
    "    scheduler = torch.optim.lr_scheduler.CyclicLR(optimizer, base_lr=base_lr, max_lr=max_lr,\n",
    "                                                  step_size_up=step_size_up, step_size_down=step_size_down,\n",
    "                                                  mode='exp_range',gamma=gamma)\n",
    "    best_a = 0\n",
    "    # 逐epoch训练\n",
    "    for epoch in tqdm(range(epochs)):\n",
    "#         print('EPOCH #', epoch+1,end=' ')\n",
    "#         print('LR: {:0.6f}'.format(optimizer.param_groups[-1]['lr']),end=' ')\n",
    "        loss_list_t,a_t = distiller_epoch(stu_model, criterion, optimizer, scheduler,\n",
    "                                      train_mode=True, show_tqdm=show_tqdm)\n",
    "        loss_list_v,a_v = distiller_epoch(stu_model, criterion, optimizer, scheduler,\n",
    "                                      train_mode=False, show_tqdm=show_tqdm)\n",
    "        all_train_losses += [np.mean(loss_list_t[0])]\n",
    "        all_val_losses += [np.mean(loss_list_v[0])]\n",
    "        all_learn_rate += [optimizer.param_groups[-1]['lr']]\n",
    "        all_rkd += [a_t]\n",
    "#         print(all_rkd)\n",
    "        if a_v > best_a:\n",
    "            best_a = a_v\n",
    "            torch.save(stu_model.state_dict(), save_path)      # epoch的验证loss小于最优loss 保存模型\n",
    "#             long_pic_tensorboard(val_set_marked,stu_model,col=25,row=16,epochidx=EPOCH_idx)\n",
    "\n",
    "#         torch.save(stu_model.state_dict(), save_path)        # 每轮都保存模型\n",
    "        EPOCH_idx+=1\n",
    "        \n",
    "    return "
   ]
  },
  {
   "cell_type": "code",
   "execution_count": 28,
   "metadata": {},
   "outputs": [],
   "source": [
    "def distiller_train_lr_test(stu_model,epochs,init_lr,lr_rate, times,\n",
    "                            weight_decay=1e-5,batch_size=128, save_path='./stu_model.pt',\n",
    "                            criterion=nn.CrossEntropyLoss(), show_tqdm=True,\n",
    "                            all_train_losses=[],all_val_losses=[],all_learn_rate=[],all_rkd=[]):\n",
    "    '''训练调度器  \n",
    "    criterion  切换损失函数模式 \n",
    "    auto_lr    自动更新学习率开关'''\n",
    "    best_val_loss = float('inf')\n",
    "    \n",
    "    # 优化器\n",
    "    optimizer = torch.optim.SGD(stu_model.parameters(),\n",
    "                                lr=init_lr, momentum=0.9, dampening=0, \n",
    "                                weight_decay=weight_decay, nesterov=True)\n",
    "    \n",
    "    scheduler = torch.optim.lr_scheduler.CyclicLR(optimizer, base_lr=init_lr, max_lr=init_lr,\n",
    "                                                  step_size_up=100, step_size_down=100,\n",
    "                                                  mode='exp_range',gamma=1)\n",
    "    \n",
    "    # 逐epoch训练\n",
    "    for epoch in tqdm(range(epochs)):\n",
    "        print('EPOCH #', epoch+1,end=' ')\n",
    "        print('LR:',init_lr)\n",
    "        tmp = []\n",
    "        for i in range(times):\n",
    "            loss_list_t = distiller_epoch(stu_model, criterion, optimizer, scheduler,\n",
    "                                      train_mode=True, show_tqdm=show_tqdm)\n",
    "            tmp+=loss_list_t[0]\n",
    "            \n",
    "        all_train_losses += [np.mean(tmp)]                   # 拼接进所有训练loss列表 逐batch\n",
    "        all_learn_rate   += [init_lr]                        # 拼接当前学习率\n",
    "\n",
    "        if np.mean(tmp)>200 or np.isnan(np.mean(tmp)):\n",
    "            print(np.mean(tmp))\n",
    "            break\n",
    "        init_lr *= lr_rate\n",
    "        for param_group in optimizer.param_groups:   # 更新所有lr\n",
    "            param_group['lr'] = init_lr\n",
    "    return "
   ]
  },
  {
   "cell_type": "markdown",
   "metadata": {},
   "source": [
    "# load data"
   ]
  },
  {
   "cell_type": "code",
   "execution_count": 29,
   "metadata": {},
   "outputs": [],
   "source": [
    "def load_data_from_mat(path):\n",
    "    data = sio.loadmat(path)\n",
    "    data_cube = torch.tensor(data['sig2'].squeeze().transpose((2,0,1)))\n",
    "    return data_cube"
   ]
  },
  {
   "cell_type": "markdown",
   "metadata": {},
   "source": [
    "# Train"
   ]
  },
  {
   "cell_type": "markdown",
   "metadata": {},
   "source": [
    "## lr test"
   ]
  },
  {
   "cell_type": "code",
   "execution_count": 9,
   "metadata": {},
   "outputs": [],
   "source": [
    "# epoch=2000\n",
    "# start_lr=1e-6\n",
    "# factor=1.1\n",
    "# times=1\n",
    "# # exp test lr \n",
    "# # print('start exp test >>> from {} to {}'.format(start_lr,start_lr*(factor**epoch)))\n",
    "# t_loss, v_loss, l_rate, rkds=[],[],[],[]\n",
    "\n",
    "# distiller_train_lr_test(stu_model,epoch,start_lr,factor,times,\n",
    "#                         weight_decay=1e-6,batch_size=BATCH_size, show_tqdm=False,\n",
    "#                         all_train_losses=t_loss,all_val_losses=v_loss,\n",
    "#                         all_learn_rate=l_rate,all_rkd=rkds)"
   ]
  },
  {
   "cell_type": "code",
   "execution_count": 10,
   "metadata": {
    "scrolled": true
   },
   "outputs": [],
   "source": [
    "# from matplotlib import pyplot as plt\n",
    "# %pylab inline\n",
    "\n",
    "# #plot test result\n",
    "# x = [start_lr*(factor**i) for i in range(len(t_loss))]\n",
    "# plt.plot(x,np.array(t_loss))\n",
    "# plt.xscale('log')\n",
    "# # plt.ylim((0, 2))\n",
    "# # plt.xlim((1e0, 10**0.2))\n",
    "# plt.show()"
   ]
  },
  {
   "cell_type": "markdown",
   "metadata": {},
   "source": [
    "## train"
   ]
  },
  {
   "cell_type": "code",
   "execution_count": 129,
   "metadata": {},
   "outputs": [],
   "source": [
    "path = './back3_HBR_proc.mat'\n",
    "stu_model = CLS_NET()\n",
    "SEED = 1024\n",
    "BATCH_size = 24\n",
    "EPOCH_idx = 0           # log epoch index init to 0\n",
    "data_cube = load_data_from_mat(path)"
   ]
  },
  {
   "cell_type": "code",
   "execution_count": 130,
   "metadata": {},
   "outputs": [],
   "source": [
    "# batch,marks = data_loader(data_cube,24)\n",
    "# res,y = stu_model(batch)\n",
    "# y.shape"
   ]
  },
  {
   "cell_type": "code",
   "execution_count": 131,
   "metadata": {},
   "outputs": [
    {
     "data": {
      "application/vnd.jupyter.widget-view+json": {
       "model_id": "73a011f7a0f54ace8de58fd6c16d17f1",
       "version_major": 2,
       "version_minor": 0
      },
      "text/plain": [
       "HBox(children=(FloatProgress(value=0.0, max=400.0), HTML(value='')))"
      ]
     },
     "metadata": {},
     "output_type": "display_data"
    },
    {
     "name": "stdout",
     "output_type": "stream",
     "text": [
      "\n"
     ]
    },
    {
     "data": {
      "text/plain": [
       "[<matplotlib.lines.Line2D at 0x7fc77d639ee0>]"
      ]
     },
     "execution_count": 131,
     "metadata": {},
     "output_type": "execute_result"
    },
    {
     "data": {
      "image/png": "[encoded data removed]",
      "text/plain": [
       "<Figure size 432x288 with 1 Axes>"
      ]
     },
     "metadata": {
      "needs_background": "light"
     },
     "output_type": "display_data"
    }
   ],
   "source": [
    "epoch_n = 400\n",
    "cycle_n = 8\n",
    "# lrs = 1e4/8\n",
    "lrs=1\n",
    "step = epoch_n*(24*2//BATCH_size)/(cycle_n*2)\n",
    "\n",
    "t_loss, v_loss, l_rate, rkds=[],[],[],[]\n",
    "distiller_train(stu_model,epoch_n,base_lr=10**(-5)/lrs, max_lr=10**(-2)/lrs,step_size_up=step, step_size_down=step,gamma=1,\n",
    "                weight_decay=1e-6,show_tqdm=False,all_train_losses=t_loss,all_val_losses=v_loss,\n",
    "                        all_learn_rate=l_rate,all_rkd=rkds)\n",
    "plt.plot(t_loss)\n",
    "plt.plot(rkds)\n",
    "plt.plot(l_rate)"
   ]
  },
  {
   "cell_type": "markdown",
   "metadata": {},
   "source": [
    "# Attention map"
   ]
  },
  {
   "cell_type": "code",
   "execution_count": 65,
   "metadata": {},
   "outputs": [
    {
     "data": {
      "text/plain": [
       "<All keys matched successfully>"
      ]
     },
     "execution_count": 65,
     "metadata": {},
     "output_type": "execute_result"
    }
   ],
   "source": [
    "stu_model.load_state_dict(torch.load('./stu_model.pt')) "
   ]
  },
  {
   "cell_type": "code",
   "execution_count": 132,
   "metadata": {},
   "outputs": [],
   "source": [
    "SEED = None\n",
    "data_cube = load_data_from_mat(path)\n",
    "batch,marks = data_loader(data_cube,24)\n",
    "res_sort,ch_map = stu_model(batch)\n",
    "save_map(ch_map)"
   ]
  },
  {
   "cell_type": "code",
   "execution_count": null,
   "metadata": {},
   "outputs": [],
   "source": []
  }
 ],
 "metadata": {
  "kernelspec": {
   "display_name": "Python 3",
   "language": "python",
   "name": "python3"
  },
  "language_info": {
   "codemirror_mode": {
    "name": "ipython",
    "version": 3
   },
   "file_extension": ".py",
   "mimetype": "text/x-python",
   "name": "python",
   "nbconvert_exporter": "python",
   "pygments_lexer": "ipython3",
   "version": "3.8.3"
  },
  "toc": {
   "base_numbering": 1,
   "nav_menu": {},
   "number_sections": true,
   "sideBar": true,
   "skip_h1_title": false,
   "title_cell": "Table of Contents",
   "title_sidebar": "Contents",
   "toc_cell": true,
   "toc_position": {
    "height": "calc(100% - 180px)",
    "left": "10px",
    "top": "150px",
    "width": "384px"
   },
   "toc_section_display": true,
   "toc_window_display": true
  },
  "varInspector": {
   "cols": {
    "lenName": 16,
    "lenType": 16,
    "lenVar": 40
   },
   "kernels_config": {
    "python": {
     "delete_cmd_postfix": "",
     "delete_cmd_prefix": "del ",
     "library": "var_list.py",
     "varRefreshCmd": "print(var_dic_list())"
    },
    "r": {
     "delete_cmd_postfix": ") ",
     "delete_cmd_prefix": "rm(",
     "library": "var_list.r",
     "varRefreshCmd": "cat(var_dic_list()) "
    }
   },
   "types_to_exclude": [
    "module",
    "function",
    "builtin_function_or_method",
    "instance",
    "_Feature"
   ],
   "window_display": false
  }
 },
 "nbformat": 4,
 "nbformat_minor": 4
}
